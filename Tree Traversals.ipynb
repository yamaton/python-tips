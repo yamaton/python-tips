{
 "cells": [
  {
   "cell_type": "markdown",
   "metadata": {},
   "source": [
    "# Tree traversal with Python"
   ]
  },
  {
   "cell_type": "code",
   "execution_count": 1,
   "metadata": {},
   "outputs": [],
   "source": [
    "import collections\n",
    "import itertools as it"
   ]
  },
  {
   "cell_type": "markdown",
   "metadata": {},
   "source": [
    "## Define binary tree"
   ]
  },
  {
   "cell_type": "code",
   "execution_count": 2,
   "metadata": {},
   "outputs": [],
   "source": [
    "class Node(object):\n",
    "    def __init__(self, value, left=None, right=None):\n",
    "        self.value = value\n",
    "        self.left = left\n",
    "        self.right = right\n",
    "    \n",
    "    def _is_leaf(self):\n",
    "        return (self.left is None) and (self.right is None)\n",
    "    \n",
    "    def __repr__(self):\n",
    "        if self._is_leaf():\n",
    "            return \"Leaf({})\".format(self.value)\n",
    "        return \"Node({}, {}, {})\".format(self.value, self.left, self.right)"
   ]
  },
  {
   "cell_type": "code",
   "execution_count": 3,
   "metadata": {},
   "outputs": [],
   "source": [
    "atree = Node(\n",
    "            0, \n",
    "            Node(1, Node(2), Node(3, None, Node(4))),\n",
    "            Node(5, Node(6, Node(7), None), Node(8, Node(9), Node(10, Node(11), Node(12))))\n",
    "        )"
   ]
  },
  {
   "cell_type": "code",
   "execution_count": 4,
   "metadata": {},
   "outputs": [
    {
     "data": {
      "text/plain": [
       "Node(0, Node(1, Leaf(2), Node(3, None, Leaf(4))), Node(5, Node(6, Leaf(7), None), Node(8, Leaf(9), Node(10, Leaf(11), Leaf(12)))))"
      ]
     },
     "execution_count": 4,
     "metadata": {},
     "output_type": "execute_result"
    }
   ],
   "source": [
    "atree"
   ]
  },
  {
   "cell_type": "markdown",
   "metadata": {},
   "source": [
    "## Find all paths from root to leaves"
   ]
  },
  {
   "cell_type": "markdown",
   "metadata": {},
   "source": [
    "### Generating lists"
   ]
  },
  {
   "cell_type": "code",
   "execution_count": 5,
   "metadata": {},
   "outputs": [],
   "source": [
    "def is_leaf(t):\n",
    "    return (t.left is None) and (t.right is None)\n",
    "\n",
    "def all_paths(root):\n",
    "    if is_leaf(root):\n",
    "        yield [root.value]\n",
    "    else:\n",
    "        if root.left is not None:\n",
    "            for path in all_paths(root.left):\n",
    "                yield [root.value] + path\n",
    "        if root.right is not None:\n",
    "            for path in all_paths(root.right):\n",
    "                yield [root.value] + path"
   ]
  },
  {
   "cell_type": "code",
   "execution_count": 6,
   "metadata": {},
   "outputs": [
    {
     "data": {
      "text/plain": [
       "[[0, 1, 2],\n",
       " [0, 1, 3, 4],\n",
       " [0, 5, 6, 7],\n",
       " [0, 5, 8, 9],\n",
       " [0, 5, 8, 10, 11],\n",
       " [0, 5, 8, 10, 12]]"
      ]
     },
     "execution_count": 6,
     "metadata": {},
     "output_type": "execute_result"
    }
   ],
   "source": [
    "list(all_paths(atree))"
   ]
  },
  {
   "cell_type": "markdown",
   "metadata": {},
   "source": [
    "### Generatoring generators"
   ]
  },
  {
   "cell_type": "code",
   "execution_count": 7,
   "metadata": {},
   "outputs": [],
   "source": [
    "def is_leaf(t):\n",
    "    return (t.left is None) and (t.right is None)\n",
    "\n",
    "def all_paths(root):    \n",
    "    if is_leaf(root):\n",
    "        yield [root.value]\n",
    "    else:\n",
    "        if root.left is not None:\n",
    "            gen = map(lambda path: it.chain([root.value], path), all_paths(root.left))\n",
    "            yield from gen\n",
    "        if root.right is not None:\n",
    "            gen = map(lambda path: it.chain([root.value], path), all_paths(root.right))\n",
    "            yield from gen"
   ]
  },
  {
   "cell_type": "code",
   "execution_count": 8,
   "metadata": {},
   "outputs": [
    {
     "data": {
      "text/plain": [
       "[[0, 1, 2],\n",
       " [0, 1, 3, 4],\n",
       " [0, 5, 6, 7],\n",
       " [0, 5, 8, 9],\n",
       " [0, 5, 8, 10, 11],\n",
       " [0, 5, 8, 10, 12]]"
      ]
     },
     "execution_count": 8,
     "metadata": {},
     "output_type": "execute_result"
    }
   ],
   "source": [
    "list(map(list, all_paths(atree)))"
   ]
  },
  {
   "cell_type": "markdown",
   "metadata": {},
   "source": [
    "### Generating generators with tail recursion"
   ]
  },
  {
   "cell_type": "code",
   "execution_count": 9,
   "metadata": {},
   "outputs": [],
   "source": [
    "def is_leaf(t):\n",
    "    return (t.left is None) and (t.right is None)\n",
    "\n",
    "def all_paths_tailrec(root):\n",
    "    yield from _helper(root, [])\n",
    "\n",
    "def _helper(root, acc): \n",
    "    \"\"\"\n",
    "    Args:\n",
    "        root: tree with fields value, left (tree), right (tree)\n",
    "        acc: accumulator of iterable<value>\n",
    "    \"\"\"\n",
    "    if is_leaf(root):\n",
    "        yield it.chain(acc, [root.value])\n",
    "    else:\n",
    "        acc1, acc2 = it.tee(acc)  # To avoid generator exhaustion\n",
    "        if root.left is not None:\n",
    "            yield from _helper(root.left, it.chain(acc1, [root.value]))\n",
    "        if root.right is not None:\n",
    "            yield from _helper(root.right, it.chain(acc2, [root.value]))"
   ]
  },
  {
   "cell_type": "code",
   "execution_count": 10,
   "metadata": {},
   "outputs": [
    {
     "data": {
      "text/plain": [
       "[[0, 1, 2],\n",
       " [0, 1, 3, 4],\n",
       " [0, 5, 6, 7],\n",
       " [0, 5, 8, 9],\n",
       " [0, 5, 8, 10, 11],\n",
       " [0, 5, 8, 10, 12]]"
      ]
     },
     "execution_count": 10,
     "metadata": {},
     "output_type": "execute_result"
    }
   ],
   "source": [
    "list(map(list, all_paths_tailrec(atree)))"
   ]
  },
  {
   "cell_type": "code",
   "execution_count": null,
   "metadata": {},
   "outputs": [],
   "source": []
  },
  {
   "cell_type": "markdown",
   "metadata": {},
   "source": [
    "## Inorder traversal"
   ]
  },
  {
   "cell_type": "code",
   "execution_count": 11,
   "metadata": {},
   "outputs": [],
   "source": [
    "def inorder(root):\n",
    "    if root.left is not None:\n",
    "        yield from inorder(root.left)\n",
    "    yield root.value\n",
    "    if root.right is not None:\n",
    "        yield from inorder(root.right)"
   ]
  },
  {
   "cell_type": "code",
   "execution_count": 12,
   "metadata": {},
   "outputs": [
    {
     "data": {
      "text/plain": [
       "[2, 1, 3, 4, 0, 7, 6, 5, 9, 8, 11, 10, 12]"
      ]
     },
     "execution_count": 12,
     "metadata": {},
     "output_type": "execute_result"
    }
   ],
   "source": [
    "list(inorder(atree))"
   ]
  },
  {
   "cell_type": "markdown",
   "metadata": {},
   "source": [
    "## Preorder traversal"
   ]
  },
  {
   "cell_type": "code",
   "execution_count": 13,
   "metadata": {},
   "outputs": [],
   "source": [
    "def preorder(root):\n",
    "    yield root.value\n",
    "    if root.left is not None:\n",
    "        yield from preorder(root.left)\n",
    "    if root.right is not None:\n",
    "        yield from preorder(root.right)"
   ]
  },
  {
   "cell_type": "code",
   "execution_count": 14,
   "metadata": {},
   "outputs": [
    {
     "data": {
      "text/plain": [
       "[0, 1, 2, 3, 4, 5, 6, 7, 8, 9, 10, 11, 12]"
      ]
     },
     "execution_count": 14,
     "metadata": {},
     "output_type": "execute_result"
    }
   ],
   "source": [
    "list(preorder(atree))"
   ]
  },
  {
   "cell_type": "markdown",
   "metadata": {},
   "source": [
    "## Postorder traversal"
   ]
  },
  {
   "cell_type": "code",
   "execution_count": 15,
   "metadata": {},
   "outputs": [],
   "source": [
    "def postorder(root):\n",
    "    if root.left is not None:\n",
    "        yield from postorder(root.left)\n",
    "    if root.right is not None:\n",
    "        yield from postorder(root.right)\n",
    "    yield root.value"
   ]
  },
  {
   "cell_type": "code",
   "execution_count": 16,
   "metadata": {},
   "outputs": [
    {
     "data": {
      "text/plain": [
       "[2, 4, 3, 1, 7, 6, 9, 11, 12, 10, 8, 5, 0]"
      ]
     },
     "execution_count": 16,
     "metadata": {},
     "output_type": "execute_result"
    }
   ],
   "source": [
    "list(postorder(atree))"
   ]
  }
 ],
 "metadata": {
  "kernelspec": {
   "display_name": "Python 3",
   "language": "python",
   "name": "python3"
  },
  "language_info": {
   "codemirror_mode": {
    "name": "ipython",
    "version": 3
   },
   "file_extension": ".py",
   "mimetype": "text/x-python",
   "name": "python",
   "nbconvert_exporter": "python",
   "pygments_lexer": "ipython3",
   "version": "3.7.3"
  }
 },
 "nbformat": 4,
 "nbformat_minor": 2
}
